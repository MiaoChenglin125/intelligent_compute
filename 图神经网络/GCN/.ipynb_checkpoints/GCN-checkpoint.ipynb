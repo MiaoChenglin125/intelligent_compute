{
 "cells": [
  {
   "cell_type": "code",
   "execution_count": 1,
   "metadata": {},
   "outputs": [],
   "source": [
    "import torch\n",
    "import torch.nn as nn\n",
    "import torch.nn.functional as F\n",
    "import torch.nn.init as init"
   ]
  },
  {
   "cell_type": "code",
   "execution_count": 2,
   "metadata": {},
   "outputs": [],
   "source": [
    "class GraphConvolution(nn.Module):\n",
    "    def __init__(self,input_dim,output_dim,use_bias=True):\n",
    "        super(GraphConvolution,self).__init__()\n",
    "        self.input_dim=input_dim\n",
    "        self.output_dim=output_dim\n",
    "        self.use_bias=use_bias\n",
    "        self.weight=nn.Parameter(torch.Tensor(input_dim,output_dim))\n",
    "        if self.use_bias:\n",
    "            self.bias=nn.Parameter(torch.Tensor(output_dim))\n",
    "        else:\n",
    "            self.register_parameter(\"bias\",None)\n",
    "        self.reset_parameters()\n",
    "    def reset_parameters(self):\n",
    "        init.kaiming_uniform_(self.weight)\n",
    "        if self.use_bias:\n",
    "            init.zeros_(self.bias)\n",
    "    def forward(self,adjacency,input_feature):\n",
    "        support=torch.mm(input_feature,self.weight)\n",
    "        output=torch.sparse.mm(adjacency,support)\n",
    "        if self.use_bias:\n",
    "            output+=self.bias\n",
    "        return output\n",
    "    def __repr__(self):\n",
    "        return self.__class__.__name__+'('+str(self.input_dim)+' -> '+str(self.output_dim)+')'"
   ]
  },
  {
   "cell_type": "code",
   "execution_count": 3,
   "metadata": {},
   "outputs": [
    {
     "name": "stdout",
     "output_type": "stream",
     "text": [
      "Parameter containing:\n",
      "tensor([[-0.4876, -0.9126, -0.5671,  0.8021],\n",
      "        [ 1.1796,  0.1740,  1.1935, -0.7246],\n",
      "        [ 0.9511, -0.5088, -0.0405,  1.1384],\n",
      "        [-0.7693,  1.0786,  0.4726, -0.8738],\n",
      "        [ 0.8445,  0.2948,  0.5598, -0.3880]], requires_grad=True)\n",
      "Parameter containing:\n",
      "tensor([0., 0., 0., 0.], requires_grad=True)\n",
      "GraphConvolution(5 -> 4)\n"
     ]
    }
   ],
   "source": [
    "graphConv=GraphConvolution(5,4)\n",
    "graphConv.reset_parameters()\n",
    "print(graphConv.weight)\n",
    "print(graphConv.bias)\n",
    "print(graphConv.__repr__())"
   ]
  },
  {
   "cell_type": "code",
   "execution_count": 41,
   "metadata": {},
   "outputs": [],
   "source": [
    "class GCN(nn.Module):\n",
    "    def __init__(self,input_dim=INPUT_DIM):\n",
    "        super(GCN,self).__init__()\n",
    "        self.gcn1=GraphConvolution(input_dim,128)\n",
    "        self.gcn2=GraphConvolution(128,7)        \n",
    "    def forward(self,adjacency,feature):\n",
    "        h=F.relu(self.gcn1(adjacency,feature))\n",
    "        logits=F.softmax(self.gcn2(adjacency,h),dim=-1)\n",
    "        return logits"
   ]
  },
  {
   "cell_type": "code",
   "execution_count": 42,
   "metadata": {},
   "outputs": [],
   "source": [
    "from collections import namedtuple\n",
    "import torch\n",
    "import torch.nn as nn\n",
    "import torch.optim as optim\n",
    "import numpy as np\n",
    "from sklearn.manifold import TSNE\n",
    "import matplotlib.pyplot as plt"
   ]
  },
  {
   "cell_type": "code",
   "execution_count": 43,
   "metadata": {},
   "outputs": [],
   "source": [
    "from dataset import CoraData"
   ]
  },
  {
   "cell_type": "code",
   "execution_count": 256,
   "metadata": {},
   "outputs": [],
   "source": [
    "#hyper params\n",
    "LEARNING_RATE=0.005\n",
    "WEIGHT_DECAY=1e-1\n",
    "EPOCHS=150\n",
    "INPUT_DIM=1433\n",
    "device=\"cuda:0\" if torch.cuda.is_available() else \"cpu\"\n",
    "Data=namedtuple('Data',['x','y','adjacency','train_mask','val_mask','test_mask'])"
   ]
  },
  {
   "cell_type": "code",
   "execution_count": 257,
   "metadata": {},
   "outputs": [
    {
     "name": "stdout",
     "output_type": "stream",
     "text": [
      "Using Cached file: ../dataset/cora\\processed_cora.pkl\n"
     ]
    }
   ],
   "source": [
    "dataset=CoraData().data\n",
    "node_feature=dataset.x/dataset.x.sum(axis=1,keepdims=True)\n",
    "tensor_x=torch.from_numpy(node_feature).to(device)\n",
    "tensor_y=torch.from_numpy(dataset.y).to(device)\n",
    "#训练集-评估集-测试集\n",
    "tensor_train_mask=torch.from_numpy(dataset.train_mask).to(device)\n",
    "tensor_val_mask=torch.from_numpy(dataset.val_mask).to(device)\n",
    "tensor_test_mask=torch.from_numpy(dataset.test_mask).to(device)\n",
    "#规范化邻接矩阵\n",
    "normalize_adjacency=CoraData.normalization(dataset.adjacency)"
   ]
  },
  {
   "cell_type": "code",
   "execution_count": 258,
   "metadata": {},
   "outputs": [
    {
     "name": "stdout",
     "output_type": "stream",
     "text": [
      "[   0    0    0 ... 2707 2707 2707]\n",
      "[   0  633 1862 ... 1473 2706 2707]\n",
      "tensor([[   0,    0,    0,  ..., 2707, 2707, 2707],\n",
      "        [   0,  633, 1862,  ..., 1473, 2706, 2707]])\n",
      "[0.25      0.25      0.2236068 ... 0.2       0.2       0.2      ]\n",
      "tensor([0.2500, 0.2500, 0.2236,  ..., 0.2000, 0.2000, 0.2000])\n",
      "tensor(indices=tensor([[   0,    0,    0,  ..., 2707, 2707, 2707],\n",
      "                       [   0,  633, 1862,  ..., 1473, 2706, 2707]]),\n",
      "       values=tensor([0.2500, 0.2500, 0.2236,  ..., 0.2000, 0.2000, 0.2000]),\n",
      "       device='cuda:0', size=(2708, 2708), nnz=13264, layout=torch.sparse_coo)\n"
     ]
    }
   ],
   "source": [
    "num_nodes,input_dim=node_feature.shape\n",
    "#print(normalize_adjacency)\n",
    "indices=torch.from_numpy(np.asarray([normalize_adjacency.row,normalize_adjacency.col]).astype('int64')).long()\n",
    "print(normalize_adjacency.row)\n",
    "print(normalize_adjacency.col)\n",
    "print(indices)\n",
    "values=torch.from_numpy(normalize_adjacency.data.astype(np.float32))\n",
    "print(normalize_adjacency.data)\n",
    "print(values)\n",
    "tensor_adjacency=torch.sparse.FloatTensor(indices,values,(num_nodes,num_nodes)).to(device)\n",
    "print(tensor_adjacency)"
   ]
  },
  {
   "cell_type": "code",
   "execution_count": 259,
   "metadata": {},
   "outputs": [],
   "source": [
    "model=GCN(input_dim).to(device)\n",
    "criterion=nn.CrossEntropyLoss().to(device)\n",
    "optimizer=optim.Adam(model.parameters(),lr=LEARNING_RATE,weight_decay=WEIGHT_DACAY)"
   ]
  },
  {
   "cell_type": "code",
   "execution_count": 260,
   "metadata": {},
   "outputs": [],
   "source": [
    "def train():\n",
    "    model.train()\n",
    "    train_loss_history=[]\n",
    "    train_acc_history=[]\n",
    "    val_loss_history=[]\n",
    "    val_acc_history=[]\n",
    "    train_y=tensor_y[tensor_train_mask]\n",
    "    for epoch in range(EPOCHS):\n",
    "        logits=model(tensor_adjacency,tensor_x)\n",
    "        train_mask_logits=logits[tensor_train_mask]\n",
    "        loss=criterion(train_mask_logits,train_y)\n",
    "        optimizer.zero_grad()\n",
    "        loss.backward()\n",
    "        optimizer.step()\n",
    "        train_acc,_,_,train_loss=test(tensor_train_mask,tensor_y)\n",
    "        val_acc,_,_,val_loss=test(tensor_val_mask,tensor_y)\n",
    "        train_loss_history.append(loss.item())\n",
    "        train_acc_history.append(train_acc.item())\n",
    "        val_loss_history.append(val_loss.item())\n",
    "        val_acc_history.append(val_acc.item())\n",
    "        print(\"epoch {:02}:train loss {:.4f},train accuracy:{:.4f},validation accuracy:{:.4f}\"\n",
    "              .format(epoch,loss.item(),train_acc.item(),val_acc.item()))\n",
    "    return train_loss_history,train_acc_history,val_loss_history,val_acc_history"
   ]
  },
  {
   "cell_type": "code",
   "execution_count": 261,
   "metadata": {},
   "outputs": [],
   "source": [
    "def test(mask,y):\n",
    "    model.eval()\n",
    "    with torch.no_grad():\n",
    "        logits=model(tensor_adjacency,tensor_x)\n",
    "        test_mask_logits=logits[mask]\n",
    "        loss=criterion(test_mask_logits,y[mask])\n",
    "        predict_y=test_mask_logits.max(1)[1]\n",
    "        accuracy=torch.eq(predict_y,tensor_y[mask]).float().mean()\n",
    "    return accuracy,test_mask_logits.cpu().numpy(),tensor_y[mask].cpu().numpy(),loss"
   ]
  },
  {
   "cell_type": "code",
   "execution_count": 262,
   "metadata": {},
   "outputs": [],
   "source": [
    "def plot_loss_with_acc(train_loss_history,train_acc_history,val_loss_history,val_acc_history):\n",
    "    plt.figure(figsize=(12,8))\n",
    "    plt.plot(range(len(train_loss_history)),train_loss_history,label=\"training loss\")\n",
    "    plt.plot(range(len(val_loss_history)),val_loss_history,label=\"validation loss\")\n",
    "    plt.xlabel(\"epoch\")\n",
    "    plt.ylabel(\"Loss\")\n",
    "    plt.legend(loc=0)\n",
    "    plt.title(\"loss fig\")\n",
    "    plt.savefig(\"loss.png\",dpi=1000)\n",
    "    plt.show()\n",
    "    \n",
    "    plt.figure(figsize=(12,8))\n",
    "    plt.plot(range(len(train_acc_history)),train_acc_history,label=\"training accuracy\")\n",
    "    plt.plot(range(len(val_acc_history)),val_acc_history,label=\"validation accuracy\")\n",
    "    plt.xlabel(\"epoch\")\n",
    "    plt.ylabel(\"Accuracy\")\n",
    "    plt.legend(loc=0)\n",
    "    plt.title(\"accuracy fig\")\n",
    "    plt.savefig(\"accuracy.png\",dpi=1000)\n",
    "    plt.show()"
   ]
  },
  {
   "cell_type": "code",
   "execution_count": 263,
   "metadata": {},
   "outputs": [
    {
     "name": "stdout",
     "output_type": "stream",
     "text": [
      "epoch 00:train loss 1.9451,train accuracy:0.2786,validation accuracy:0.2280\n",
      "epoch 01:train loss 1.9403,train accuracy:0.4500,validation accuracy:0.2640\n",
      "epoch 02:train loss 1.9356,train accuracy:0.4929,validation accuracy:0.3120\n",
      "epoch 03:train loss 1.9308,train accuracy:0.5071,validation accuracy:0.3280\n",
      "epoch 04:train loss 1.9259,train accuracy:0.5571,validation accuracy:0.3420\n",
      "epoch 05:train loss 1.9210,train accuracy:0.5929,validation accuracy:0.3640\n",
      "epoch 06:train loss 1.9158,train accuracy:0.6214,validation accuracy:0.3780\n",
      "epoch 07:train loss 1.9102,train accuracy:0.6500,validation accuracy:0.3960\n",
      "epoch 08:train loss 1.9042,train accuracy:0.6714,validation accuracy:0.4220\n",
      "epoch 09:train loss 1.8978,train accuracy:0.6786,validation accuracy:0.4220\n",
      "epoch 10:train loss 1.8910,train accuracy:0.6857,validation accuracy:0.4120\n",
      "epoch 11:train loss 1.8837,train accuracy:0.6857,validation accuracy:0.4100\n",
      "epoch 12:train loss 1.8760,train accuracy:0.6857,validation accuracy:0.4100\n",
      "epoch 13:train loss 1.8678,train accuracy:0.6857,validation accuracy:0.4040\n",
      "epoch 14:train loss 1.8592,train accuracy:0.6857,validation accuracy:0.4120\n",
      "epoch 15:train loss 1.8501,train accuracy:0.6857,validation accuracy:0.4100\n",
      "epoch 16:train loss 1.8406,train accuracy:0.6714,validation accuracy:0.4080\n",
      "epoch 17:train loss 1.8308,train accuracy:0.6714,validation accuracy:0.4080\n",
      "epoch 18:train loss 1.8207,train accuracy:0.6714,validation accuracy:0.4120\n",
      "epoch 19:train loss 1.8102,train accuracy:0.6786,validation accuracy:0.4120\n",
      "epoch 20:train loss 1.7995,train accuracy:0.6786,validation accuracy:0.4120\n",
      "epoch 21:train loss 1.7886,train accuracy:0.6786,validation accuracy:0.4100\n",
      "epoch 22:train loss 1.7775,train accuracy:0.6857,validation accuracy:0.4120\n",
      "epoch 23:train loss 1.7663,train accuracy:0.6929,validation accuracy:0.4180\n",
      "epoch 24:train loss 1.7551,train accuracy:0.7000,validation accuracy:0.4220\n",
      "epoch 25:train loss 1.7437,train accuracy:0.7000,validation accuracy:0.4220\n",
      "epoch 26:train loss 1.7324,train accuracy:0.7071,validation accuracy:0.4220\n",
      "epoch 27:train loss 1.7211,train accuracy:0.7071,validation accuracy:0.4260\n",
      "epoch 28:train loss 1.7098,train accuracy:0.7071,validation accuracy:0.4300\n",
      "epoch 29:train loss 1.6987,train accuracy:0.7143,validation accuracy:0.4360\n",
      "epoch 30:train loss 1.6876,train accuracy:0.7643,validation accuracy:0.4500\n",
      "epoch 31:train loss 1.6767,train accuracy:0.7786,validation accuracy:0.4660\n",
      "epoch 32:train loss 1.6659,train accuracy:0.8000,validation accuracy:0.4740\n",
      "epoch 33:train loss 1.6552,train accuracy:0.8357,validation accuracy:0.4960\n",
      "epoch 34:train loss 1.6446,train accuracy:0.8357,validation accuracy:0.5160\n",
      "epoch 35:train loss 1.6342,train accuracy:0.8429,validation accuracy:0.5380\n",
      "epoch 36:train loss 1.6240,train accuracy:0.8571,validation accuracy:0.5500\n",
      "epoch 37:train loss 1.6139,train accuracy:0.8643,validation accuracy:0.5680\n",
      "epoch 38:train loss 1.6039,train accuracy:0.8714,validation accuracy:0.5760\n",
      "epoch 39:train loss 1.5941,train accuracy:0.8857,validation accuracy:0.6000\n",
      "epoch 40:train loss 1.5843,train accuracy:0.9000,validation accuracy:0.6040\n",
      "epoch 41:train loss 1.5747,train accuracy:0.9071,validation accuracy:0.6280\n",
      "epoch 42:train loss 1.5652,train accuracy:0.9071,validation accuracy:0.6460\n",
      "epoch 43:train loss 1.5559,train accuracy:0.9071,validation accuracy:0.6560\n",
      "epoch 44:train loss 1.5468,train accuracy:0.9071,validation accuracy:0.6680\n",
      "epoch 45:train loss 1.5379,train accuracy:0.9071,validation accuracy:0.6740\n",
      "epoch 46:train loss 1.5293,train accuracy:0.9071,validation accuracy:0.6900\n",
      "epoch 47:train loss 1.5209,train accuracy:0.9143,validation accuracy:0.6980\n",
      "epoch 48:train loss 1.5127,train accuracy:0.9286,validation accuracy:0.7080\n",
      "epoch 49:train loss 1.5047,train accuracy:0.9286,validation accuracy:0.7180\n",
      "epoch 50:train loss 1.4970,train accuracy:0.9286,validation accuracy:0.7260\n",
      "epoch 51:train loss 1.4896,train accuracy:0.9286,validation accuracy:0.7360\n",
      "epoch 52:train loss 1.4824,train accuracy:0.9286,validation accuracy:0.7460\n",
      "epoch 53:train loss 1.4754,train accuracy:0.9357,validation accuracy:0.7520\n",
      "epoch 54:train loss 1.4687,train accuracy:0.9429,validation accuracy:0.7600\n",
      "epoch 55:train loss 1.4623,train accuracy:0.9500,validation accuracy:0.7640\n",
      "epoch 56:train loss 1.4561,train accuracy:0.9571,validation accuracy:0.7680\n",
      "epoch 57:train loss 1.4501,train accuracy:0.9571,validation accuracy:0.7680\n",
      "epoch 58:train loss 1.4444,train accuracy:0.9571,validation accuracy:0.7700\n",
      "epoch 59:train loss 1.4388,train accuracy:0.9571,validation accuracy:0.7700\n",
      "epoch 60:train loss 1.4335,train accuracy:0.9571,validation accuracy:0.7720\n",
      "epoch 61:train loss 1.4284,train accuracy:0.9571,validation accuracy:0.7720\n",
      "epoch 62:train loss 1.4235,train accuracy:0.9500,validation accuracy:0.7740\n",
      "epoch 63:train loss 1.4187,train accuracy:0.9500,validation accuracy:0.7760\n",
      "epoch 64:train loss 1.4142,train accuracy:0.9500,validation accuracy:0.7760\n",
      "epoch 65:train loss 1.4099,train accuracy:0.9500,validation accuracy:0.7760\n",
      "epoch 66:train loss 1.4057,train accuracy:0.9500,validation accuracy:0.7780\n",
      "epoch 67:train loss 1.4017,train accuracy:0.9500,validation accuracy:0.7780\n",
      "epoch 68:train loss 1.3979,train accuracy:0.9500,validation accuracy:0.7780\n",
      "epoch 69:train loss 1.3942,train accuracy:0.9571,validation accuracy:0.7820\n",
      "epoch 70:train loss 1.3907,train accuracy:0.9571,validation accuracy:0.7820\n",
      "epoch 71:train loss 1.3874,train accuracy:0.9571,validation accuracy:0.7820\n",
      "epoch 72:train loss 1.3841,train accuracy:0.9571,validation accuracy:0.7820\n",
      "epoch 73:train loss 1.3810,train accuracy:0.9571,validation accuracy:0.7800\n",
      "epoch 74:train loss 1.3781,train accuracy:0.9571,validation accuracy:0.7800\n",
      "epoch 75:train loss 1.3752,train accuracy:0.9571,validation accuracy:0.7840\n",
      "epoch 76:train loss 1.3725,train accuracy:0.9571,validation accuracy:0.7840\n",
      "epoch 77:train loss 1.3698,train accuracy:0.9571,validation accuracy:0.7860\n",
      "epoch 78:train loss 1.3673,train accuracy:0.9571,validation accuracy:0.7860\n",
      "epoch 79:train loss 1.3648,train accuracy:0.9571,validation accuracy:0.7840\n",
      "epoch 80:train loss 1.3625,train accuracy:0.9571,validation accuracy:0.7860\n",
      "epoch 81:train loss 1.3602,train accuracy:0.9571,validation accuracy:0.7880\n",
      "epoch 82:train loss 1.3581,train accuracy:0.9571,validation accuracy:0.7880\n",
      "epoch 83:train loss 1.3560,train accuracy:0.9571,validation accuracy:0.7920\n",
      "epoch 84:train loss 1.3540,train accuracy:0.9571,validation accuracy:0.7920\n",
      "epoch 85:train loss 1.3521,train accuracy:0.9571,validation accuracy:0.7920\n",
      "epoch 86:train loss 1.3503,train accuracy:0.9571,validation accuracy:0.7920\n",
      "epoch 87:train loss 1.3486,train accuracy:0.9643,validation accuracy:0.7920\n",
      "epoch 88:train loss 1.3469,train accuracy:0.9643,validation accuracy:0.7920\n",
      "epoch 89:train loss 1.3454,train accuracy:0.9643,validation accuracy:0.7920\n",
      "epoch 90:train loss 1.3438,train accuracy:0.9714,validation accuracy:0.7920\n",
      "epoch 91:train loss 1.3424,train accuracy:0.9714,validation accuracy:0.7920\n",
      "epoch 92:train loss 1.3410,train accuracy:0.9714,validation accuracy:0.7920\n",
      "epoch 93:train loss 1.3397,train accuracy:0.9714,validation accuracy:0.7920\n",
      "epoch 94:train loss 1.3385,train accuracy:0.9714,validation accuracy:0.7920\n",
      "epoch 95:train loss 1.3372,train accuracy:0.9714,validation accuracy:0.7920\n",
      "epoch 96:train loss 1.3361,train accuracy:0.9714,validation accuracy:0.7920\n",
      "epoch 97:train loss 1.3350,train accuracy:0.9714,validation accuracy:0.7920\n",
      "epoch 98:train loss 1.3339,train accuracy:0.9714,validation accuracy:0.7920\n",
      "epoch 99:train loss 1.3329,train accuracy:0.9714,validation accuracy:0.7920\n",
      "epoch 100:train loss 1.3318,train accuracy:0.9714,validation accuracy:0.7940\n",
      "epoch 101:train loss 1.3309,train accuracy:0.9714,validation accuracy:0.7940\n",
      "epoch 102:train loss 1.3299,train accuracy:0.9714,validation accuracy:0.7900\n",
      "epoch 103:train loss 1.3290,train accuracy:0.9786,validation accuracy:0.7920\n",
      "epoch 104:train loss 1.3282,train accuracy:0.9786,validation accuracy:0.7920\n",
      "epoch 105:train loss 1.3273,train accuracy:0.9857,validation accuracy:0.7920\n",
      "epoch 106:train loss 1.3265,train accuracy:0.9857,validation accuracy:0.7920\n",
      "epoch 107:train loss 1.3257,train accuracy:0.9857,validation accuracy:0.7920\n",
      "epoch 108:train loss 1.3249,train accuracy:0.9857,validation accuracy:0.7920\n",
      "epoch 109:train loss 1.3241,train accuracy:0.9857,validation accuracy:0.7920\n"
     ]
    },
    {
     "name": "stdout",
     "output_type": "stream",
     "text": [
      "epoch 110:train loss 1.3234,train accuracy:0.9857,validation accuracy:0.7900\n",
      "epoch 111:train loss 1.3227,train accuracy:0.9857,validation accuracy:0.7900\n",
      "epoch 112:train loss 1.3220,train accuracy:0.9857,validation accuracy:0.7900\n",
      "epoch 113:train loss 1.3213,train accuracy:0.9857,validation accuracy:0.7900\n",
      "epoch 114:train loss 1.3206,train accuracy:0.9857,validation accuracy:0.7900\n",
      "epoch 115:train loss 1.3200,train accuracy:0.9857,validation accuracy:0.7900\n",
      "epoch 116:train loss 1.3194,train accuracy:0.9857,validation accuracy:0.7900\n",
      "epoch 117:train loss 1.3188,train accuracy:0.9857,validation accuracy:0.7900\n",
      "epoch 118:train loss 1.3182,train accuracy:0.9857,validation accuracy:0.7900\n",
      "epoch 119:train loss 1.3176,train accuracy:0.9857,validation accuracy:0.7900\n",
      "epoch 120:train loss 1.3171,train accuracy:0.9857,validation accuracy:0.7900\n",
      "epoch 121:train loss 1.3165,train accuracy:0.9857,validation accuracy:0.7900\n",
      "epoch 122:train loss 1.3160,train accuracy:0.9857,validation accuracy:0.7900\n",
      "epoch 123:train loss 1.3155,train accuracy:0.9857,validation accuracy:0.7900\n",
      "epoch 124:train loss 1.3150,train accuracy:0.9857,validation accuracy:0.7900\n",
      "epoch 125:train loss 1.3145,train accuracy:0.9857,validation accuracy:0.7900\n",
      "epoch 126:train loss 1.3140,train accuracy:0.9857,validation accuracy:0.7900\n",
      "epoch 127:train loss 1.3136,train accuracy:0.9857,validation accuracy:0.7900\n",
      "epoch 128:train loss 1.3131,train accuracy:0.9857,validation accuracy:0.7900\n",
      "epoch 129:train loss 1.3127,train accuracy:0.9857,validation accuracy:0.7900\n",
      "epoch 130:train loss 1.3123,train accuracy:0.9857,validation accuracy:0.7900\n",
      "epoch 131:train loss 1.3119,train accuracy:0.9857,validation accuracy:0.7900\n",
      "epoch 132:train loss 1.3115,train accuracy:0.9857,validation accuracy:0.7900\n",
      "epoch 133:train loss 1.3111,train accuracy:0.9857,validation accuracy:0.7900\n",
      "epoch 134:train loss 1.3107,train accuracy:0.9857,validation accuracy:0.7900\n",
      "epoch 135:train loss 1.3104,train accuracy:0.9857,validation accuracy:0.7900\n",
      "epoch 136:train loss 1.3100,train accuracy:0.9857,validation accuracy:0.7900\n",
      "epoch 137:train loss 1.3097,train accuracy:0.9857,validation accuracy:0.7900\n",
      "epoch 138:train loss 1.3093,train accuracy:0.9857,validation accuracy:0.7900\n",
      "epoch 139:train loss 1.3090,train accuracy:0.9857,validation accuracy:0.7900\n",
      "epoch 140:train loss 1.3087,train accuracy:0.9857,validation accuracy:0.7900\n",
      "epoch 141:train loss 1.3084,train accuracy:0.9857,validation accuracy:0.7900\n",
      "epoch 142:train loss 1.3081,train accuracy:0.9857,validation accuracy:0.7900\n",
      "epoch 143:train loss 1.3078,train accuracy:0.9857,validation accuracy:0.7900\n",
      "epoch 144:train loss 1.3075,train accuracy:0.9857,validation accuracy:0.7900\n",
      "epoch 145:train loss 1.3072,train accuracy:0.9929,validation accuracy:0.7900\n",
      "epoch 146:train loss 1.3069,train accuracy:0.9929,validation accuracy:0.7900\n",
      "epoch 147:train loss 1.3066,train accuracy:0.9929,validation accuracy:0.7900\n",
      "epoch 148:train loss 1.3064,train accuracy:0.9929,validation accuracy:0.7900\n",
      "epoch 149:train loss 1.3061,train accuracy:0.9929,validation accuracy:0.7900\n",
      "test accuracy: 0.8080000281333923\n"
     ]
    },
    {
     "data": {
      "image/png": "[encoded data removed]",
      "text/plain": [
       "<Figure size 864x576 with 1 Axes>"
      ]
     },
     "metadata": {
      "needs_background": "light"
     },
     "output_type": "display_data"
    },
    {
     "data": {
      "image/png": "[encoded data removed]",
      "text/plain": [
       "<Figure size 864x576 with 1 Axes>"
      ]
     },
     "metadata": {
      "needs_background": "light"
     },
     "output_type": "display_data"
    }
   ],
   "source": [
    "train_loss,train_acc,val_loss,val_acc=train()\n",
    "test_acc,test_logits,test_label,_=test(tensor_test_mask,tensor_y)\n",
    "print(\"test accuracy:\",test_acc.item())\n",
    "plot_loss_with_acc(train_loss,train_acc,val_loss,val_acc)"
   ]
  },
  {
   "cell_type": "code",
   "execution_count": null,
   "metadata": {},
   "outputs": [],
   "source": [
    "import seaborn as sns; \n",
    "sns.set(style='dark')\n",
    "# tsne visualize\n",
    "tsne = TSNE()\n",
    "out = tsne.fit_transform(test_logits)\n",
    "fig = plt.figure()\n",
    "    #figsize=(12,8)\n",
    "for i in range(7):\n",
    "    indices = test_label == i\n",
    "    x, y = out[indices].T\n",
    "    sns.scatterplot(x, y, marker=\"*\",sizes=100,label=str(i))\n",
    "plt.xticks([])\n",
    "plt.yticks([])\n",
    "plt.legend(loc=0)\n",
    "plt.title(\"NodeClassification\")\n",
    "plt.savefig('tsne.png',dpi=1000)\n",
    "plt.show()"
   ]
  },
  {
   "cell_type": "code",
   "execution_count": null,
   "metadata": {},
   "outputs": [],
   "source": [
    "\n",
    "import matplotlib.pyplot as plt\n",
    "import seaborn as sns; \n",
    "sns.set()\n",
    "tips = sns.load_dataset(\"tips\")\n",
    "\"\"\"\n",
    "案例7：同时设置hue和size，根据设置的类别，产生颜色和大小不同的点的散点图\n",
    "不过这里的颜色使用的是Set2中的，palette=\"Set2\",\n",
    "\"\"\"\n",
    "sns.scatterplot(x, y,\n",
    "                size=test_label,\n",
    "                data=tips)\n",
    "plt.show()"
   ]
  },
  {
   "cell_type": "code",
   "execution_count": null,
   "metadata": {},
   "outputs": [],
   "source": []
  }
 ],
 "metadata": {
  "kernelspec": {
   "display_name": "Python 3",
   "language": "python",
   "name": "python3"
  },
  "language_info": {
   "codemirror_mode": {
    "name": "ipython",
    "version": 3
   },
   "file_extension": ".py",
   "mimetype": "text/x-python",
   "name": "python",
   "nbconvert_exporter": "python",
   "pygments_lexer": "ipython3",
   "version": "3.8.3"
  }
 },
 "nbformat": 4,
 "nbformat_minor": 4
}
